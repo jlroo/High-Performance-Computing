{
 "cells": [
  {
   "cell_type": "markdown",
   "metadata": {
    "toc": true
   },
   "source": [
    "<h1>Table of Contents<span class=\"tocSkip\"></span></h1>\n",
    "<div class=\"toc\" style=\"margin-top: 1em;\"><ul class=\"toc-item\"><li><span><a href=\"#High-Frequency-Trading-&amp;-2010-Market-Flash-Crash\" data-toc-modified-id=\"High-Frequency-Trading-&amp;-2010-Market-Flash-Crash-1\">High Frequency Trading &amp; 2010 Market Flash Crash</a></span><ul class=\"toc-item\"><li><span><a href=\"#Introduction\" data-toc-modified-id=\"Introduction-1.1\">Introduction</a></span></li><li><span><a href=\"#Methodology\" data-toc-modified-id=\"Methodology-1.2\">Methodology</a></span></li><li><span><a href=\"#Packages-and-Functions\" data-toc-modified-id=\"Packages-and-Functions-1.3\">Packages and Functions</a></span></li><li><span><a href=\"#Data-Size-and-Exploration\" data-toc-modified-id=\"Data-Size-and-Exploration-1.4\">Data Size and Exploration</a></span></li></ul></li><li><span><a href=\"#OpenMP-Approach-on-Stampede2\" data-toc-modified-id=\"OpenMP-Approach-on-Stampede2-2\">OpenMP Approach on Stampede2</a></span><ul class=\"toc-item\"><li><span><a href=\"#Data-Processing\" data-toc-modified-id=\"Data-Processing-2.1\">Data Processing</a></span></li><li><span><a href=\"#Performance-Metrics\" data-toc-modified-id=\"Performance-Metrics-2.2\">Performance Metrics</a></span></li><li><span><a href=\"#Daily-Messages-Volume\" data-toc-modified-id=\"Daily-Messages-Volume-2.3\">Daily Messages Volume</a></span></li><li><span><a href=\"#Benchmarks---May-2010---Dataset\" data-toc-modified-id=\"Benchmarks---May-2010---Dataset-2.4\">Benchmarks - May 2010 - Dataset</a></span></li></ul></li><li><span><a href=\"#Spark/Hadoop-Approach-on-Wrangler\" data-toc-modified-id=\"Spark/Hadoop-Approach-on-Wrangler-3\">Spark/Hadoop Approach on Wrangler</a></span><ul class=\"toc-item\"><li><ul class=\"toc-item\"><li><span><a href=\"#Notebook-Spark-Setup\" data-toc-modified-id=\"Notebook-Spark-Setup-3.0.1\">Notebook Spark Setup</a></span></li></ul></li></ul></li></ul></div>"
   ]
  },
  {
   "cell_type": "markdown",
   "metadata": {},
   "source": [
    "# High Frequency Trading & 2010 Market Flash Crash\n",
    "\n",
    "**Jose Luis Rodriguez**\n",
    "\n",
    "**COMP 464 High Performance Computing ** \n",
    "\n",
    "**Loyola University Chicago**"
   ]
  },
  {
   "cell_type": "markdown",
   "metadata": {},
   "source": [
    "## Introduction \n",
    "\n",
    "As computational capabilities continue to grow exponentially and financial markets around the world are increasingly dependable on automated systems it is worth to spend some time analysis the market depth data of the weeks leading to and the day of May 6, 2010 to have a better understanding of market behavior during this high volatility period and to compare some of this project findings with official report to congress from the CFTC and SEC. The data used in this project is from CME Group and corresponds to market depth transactions in milliseconds of the E-Mini S\\&P 500 futures and options contracts. "
   ]
  },
  {
   "cell_type": "markdown",
   "metadata": {},
   "source": [
    "## Methodology\n",
    "\n",
    "The market depth data that the CME Group provides contains all market data messages required to recreate the order book (list of orders that a trading firm uses to record the interest of buyers and sellers in a particular financial instrument.) each message contains between five to ten orders deep in futures markets and three orders deep in options markets this data is time stamped to the millisecond allowing for an in depth analysis of the price movement.\n",
    "\n",
    "In order to process the large volume of transactions (millions of transactions per week) and the goal is to compute daily, hourly, minute, seconds, millisecond volume and other data metrics it is necessary to implement statistical operations such as distributions, average in parallel as well as filtering map-reduce type jobs are ideal for type of task as the nature of the data (independent transactions) allows for parallel processing in most cases."
   ]
  },
  {
   "cell_type": "markdown",
   "metadata": {},
   "source": [
    "## Packages and Functions \n",
    "The following packages and functions are common python packages."
   ]
  },
  {
   "cell_type": "code",
   "execution_count": 94,
   "metadata": {},
   "outputs": [],
   "source": [
    "import os\n",
    "import time\n",
    "import pandas as pd\n",
    "from datetime import datetime\n",
    "from collections import OrderedDict\n",
    "from matplotlib.dates import DateFormatter\n",
    "from matplotlib.dates import DateFormatter\n",
    "from matplotlib.ticker import ScalarFormatter, FormatStrFormatter\n",
    "import matplotlib.pyplot as plt\n",
    "%matplotlib inline\n",
    "from IPython.display import display_html\n",
    "\n",
    "def display(*args):\n",
    "    html_str=''\n",
    "    for df in args:\n",
    "        html_str+=df.to_html()\n",
    "    display_html(html_str.replace('table','table style=\"display:inline\"'),raw=True)\n",
    "\n",
    "def plot_benchmarks(metrics):\n",
    "    X = metrics['threads']\n",
    "    read_time = metrics['read_time']\n",
    "    search_time = metrics['search_time']\n",
    "    volume_time = metrics['volume_time']\n",
    "\n",
    "    # plot with various axes scales\n",
    "    plt.figure(figsize=(15,15))\n",
    "    \n",
    "    # PLOT-1A\n",
    "    plt.subplot(221)\n",
    "    plt.plot(X, search_time,color='blue')\n",
    "    plt.xticks(X)\n",
    "    #plt.xscale('log')\n",
    "    plt.title('tagSearch Algorithm')\n",
    "    \n",
    "    # PLOT-1B\n",
    "    plt.subplot(222)\n",
    "    plt.plot(X, read_time,color='orange')\n",
    "    plt.xticks(X)\n",
    "    plt.title('readFile Algorithm')\n",
    "\n",
    "    # PLOT-2A\n",
    "    plt.subplot(223)\n",
    "    plt.plot(X, volume_time,color='green')\n",
    "    plt.xticks(X)    \n",
    "    #plt.xscale('log')\n",
    "    plt.title('dateVolume Algorithm')\n",
    "\n",
    "    # PLOT-2B\n",
    "    plt.subplot(224)\n",
    "    plt.plot(X, search_time,color='blue')\n",
    "    plt.plot(X, read_time,color='orange')\n",
    "    plt.plot(X, volume_time,color='green')\n",
    "    plt.xticks(X)\n",
    "    plt.title('Algorithms Performance')\n",
    "\n",
    "    plt.subplots_adjust(top=0.95, bottom=0.10, left=0.10, right=0.95, hspace=0.25, wspace=0.35)\n",
    "\n",
    "    plt.show()\n",
    "    \n",
    "def benchmarks(metrics):\n",
    "    X = metrics['threads']\n",
    "    read_time = (metrics['read_time']/metrics['read_time'][0])/X\n",
    "    search_time = (metrics['search_time']/metrics['search_time'][0])/X\n",
    "    volume_time = (metrics['volume_time']/metrics['volume_time'][0])/X\n",
    "\n",
    "    # plot with various axes scales\n",
    "    plt.figure(figsize=(15,15))\n",
    "    \n",
    "    \n",
    "    \n",
    "    # PLOT-1A\n",
    "    plt.subplot(221)\n",
    "    plt.plot(X, search_time,color='blue')\n",
    "    plt.xticks(X)\n",
    "    plt.xticks(X, list(X))\n",
    "    plt.title('tagSearch Efficiency Algorithm')\n",
    "    \n",
    "    # PLOT-1B\n",
    "    plt.subplot(222)\n",
    "    plt.plot(X, read_time,color='orange')\n",
    "    plt.xticks(X, list(X))\n",
    "    plt.title('readFile Efficiency Algorithm')\n",
    "\n",
    "    # PLOT-2A\n",
    "    plt.subplot(223)\n",
    "    plt.plot(X, volume_time,color='green')\n",
    "    plt.xticks(X, list(X))\n",
    "    plt.title('dateVolume Efficiency Algorithm')\n",
    "\n",
    "    # PLOT-2B\n",
    "    plt.subplot(224)\n",
    "    plt.plot(X, search_time,color='blue')\n",
    "    plt.plot(X, read_time,color='orange')\n",
    "    plt.plot(X, volume_time,color='green')\n",
    "    plt.xticks(X, list(X))\n",
    "    plt.title('Algorithms Performance')\n",
    "\n",
    "    plt.subplots_adjust(top=0.95, bottom=0.10, left=0.10, right=0.95, hspace=0.25, wspace=0.35)\n",
    "\n",
    "    plt.show()"
   ]
  },
  {
   "cell_type": "markdown",
   "metadata": {},
   "source": [
    "## Data Size and Exploration  "
   ]
  },
  {
   "cell_type": "code",
   "execution_count": 131,
   "metadata": {},
   "outputs": [
    {
     "name": "stdout",
     "output_type": "stream",
     "text": [
      "jlroo G-817104  27G Dec  3 19:59 XCME_MD_ES_20100503_20100507\n",
      "jlroo G-817104  23G Dec  3 20:00 XCME_MD_ES_20100510_20100514\n",
      "jlroo G-817104  31G Dec  3 20:00 XCME_MD_ES_20100517_20100521\n",
      "jlroo G-817104  21G Dec  3 19:58 XCME_MD_ES_20100524_20100528\n",
      "jlroo G-817104  16G Dec  3 19:58 XCME_MD_ES_20100531_20100604\n"
     ]
    }
   ],
   "source": [
    "%%bash\n",
    "ls -la -h $DATA/data/05/ | grep -o \"jlroo .*.\" |  tail -n +3"
   ]
  },
  {
   "cell_type": "code",
   "execution_count": 132,
   "metadata": {},
   "outputs": [
    {
     "name": "stdout",
     "output_type": "stream",
     "text": [
      "jlroo G-817104  13G Dec  3 20:00 XCME_MD_ES_20101206_20101210\n",
      "jlroo G-817104  12G Dec  3 20:01 XCME_MD_ES_20101213_20101217\n",
      "jlroo G-817104 4.8G Dec  3 20:00 XCME_MD_ES_20101220_20101224\n",
      "jlroo G-817104 3.9G Dec  3 20:01 XCME_MD_ES_20101227_20101231\n"
     ]
    }
   ],
   "source": [
    "%%bash\n",
    "ls -la -h $DATA/data/12/ | grep -o \"jlroo .*.\" |  tail -n +3"
   ]
  },
  {
   "cell_type": "code",
   "execution_count": 133,
   "metadata": {},
   "outputs": [
    {
     "name": "stdout",
     "output_type": "stream",
     "text": [
      "1128=9\u00019=156\u000135=X\u000149=CME\u000134=16058329\u000152=20101231221250733\u000175=20101231\u0001268=1\u0001279=0\u000122=8\u000148=283034\u000164=20101231\u000183=7180\u0001107=ESZ1 P0960\u0001269=6\u0001270=3100\u0001273=221202000\u0001286=100\u000110=179\u0001\n",
      "1128=9\u00019=156\u000135=X\u000149=CME\u000134=16058330\u000152=20101231221250733\u000175=20101231\u0001268=1\u0001279=0\u000122=8\u000148=283034\u000164=20101231\u000183=7181\u0001107=ESZ1 P0960\u0001269=6\u0001270=3110\u0001273=221202000\u0001286=101\u000110=174\u0001\n",
      "1128=9\u00019=156\u000135=X\u000149=CME\u000134=16058331\u000152=20101231221250743\u000175=20101231\u0001268=1\u0001279=0\u000122=8\u000148=652649\u000164=20101231\u000183=7099\u0001107=ESZ1 P0970\u0001269=6\u0001270=3275\u0001273=221202000\u0001286=100\u000110=208\u0001\n",
      "1128=9\u00019=156\u000135=X\u000149=CME\u000134=16058332\u000152=20101231221250743\u000175=20101231\u0001268=1\u0001279=0\u000122=8\u000148=652649\u000164=20101231\u000183=7100\u0001107=ESZ1 P0970\u0001269=6\u0001270=3270\u0001273=221202000\u0001286=101\u000110=188\u0001\n",
      "1128=9\u00019=157\u000135=X\u000149=CME\u000134=16058333\u000152=20101231221250753\u000175=20101231\u0001268=1\u0001279=0\u000122=8\u000148=281954\u000164=20101231\u000183=10148\u0001107=ESZ1 P0975\u0001269=6\u0001270=3350\u0001273=221202000\u0001286=100\u000110=245\u0001\n",
      "1128=9\u00019=157\u000135=X\u000149=CME\u000134=16058334\u000152=20101231221250753\u000175=20101231\u0001268=1\u0001279=0\u000122=8\u000148=281954\u000164=20101231\u000183=10149\u0001107=ESZ1 P0975\u0001269=6\u0001270=3340\u0001273=221202000\u0001286=101\u000110=247\u0001\n",
      "1128=9\u00019=157\u000135=X\u000149=CME\u000134=16058335\u000152=20101231221250753\u000175=20101231\u0001268=1\u0001279=0\u000122=8\u000148=374096\u000164=20101231\u000183=10352\u0001107=ESZ1 P0980\u0001269=6\u0001270=3425\u0001273=221202000\u0001286=100\u000110=243\u0001\n",
      "1128=9\u00019=157\u000135=X\u000149=CME\u000134=16058336\u000152=20101231221250753\u000175=20101231\u0001268=1\u0001279=0\u000122=8\u000148=374096\u000164=20101231\u000183=10353\u0001107=ESZ1 P0980\u0001269=6\u0001270=3420\u0001273=221202000\u0001286=101\u000110=241\u0001\n",
      "1128=9\u00019=156\u000135=X\u000149=CME\u000134=16058337\u000152=20101231221250763\u000175=20101231\u0001268=1\u0001279=0\u000122=8\u000148=45535\u000164=20101231\u000183=10933\u0001107=ESZ1 P0990\u0001269=6\u0001270=3575\u0001273=221202000\u0001286=100\u000110=202\u0001\n",
      "1128=9\u00019=156\u000135=X\u000149=CME\u000134=16058338\u000152=20101231221250763\u000175=20101231\u0001268=1\u0001279=0\u000122=8\u000148=45535\u000164=20101231\u000183=10934\u0001107=ESZ1 P0990\u0001269=6\u0001270=3580\u0001273=221202000\u0001286=101\u000110=201\u0001\n"
     ]
    }
   ],
   "source": [
    "%%bash\n",
    "tail -n 10 $WORK/data/12/XCME_MD_ES_20101227_20101231"
   ]
  },
  {
   "cell_type": "markdown",
   "metadata": {},
   "source": [
    "# OpenMP Approach on Stampede2\n",
    "\n",
    "The application `fixanalyzer`, was compiled using the intel icpc g++ compiler with openMP pragmas enable in order to process and analyze the data in parallel. \n",
    "\n",
    "A bash command is run to execute the application and run some benchmarks. The output is pipe to python to generate some plots and metrics. "
   ]
  },
  {
   "cell_type": "code",
   "execution_count": null,
   "metadata": {},
   "outputs": [],
   "source": [
    "%%bash\n",
    "$HOME/fixanalyzer -h"
   ]
  },
  {
   "cell_type": "code",
   "execution_count": 134,
   "metadata": {},
   "outputs": [],
   "source": [
    "%%bash --out output\n",
    "for t in 1 2 4 6 8 16 32 64;\n",
    "do OMP_NUM_THREADS=$t;\n",
    "echo $t\n",
    "$HOME/fixanalyzer -p $WORK/data/12/XCME_MD_ES_20101227_20101231 -t 52 -n 4 -m 8; \n",
    "echo \" \"\n",
    "done"
   ]
  },
  {
   "cell_type": "markdown",
   "metadata": {},
   "source": [
    "## Data Processing"
   ]
  },
  {
   "cell_type": "code",
   "execution_count": 135,
   "metadata": {},
   "outputs": [
    {
     "data": {
      "text/plain": [
       "['1',\n",
       " 'date,volume',\n",
       " '20101226,25434',\n",
       " '20101227,946479',\n",
       " '20101228,975735',\n",
       " '20101229,1017509',\n",
       " '20101230,1417733',\n",
       " '20101231,931646',\n",
       " 'total_msgs,read_time,search_time,volume_time',\n",
       " '5314536,21.2661,2.99939,0.508576',\n",
       " ' ']"
      ]
     },
     "execution_count": 135,
     "metadata": {},
     "output_type": "execute_result"
    }
   ],
   "source": [
    "stdout = output.split(\"\\n\")[:-1]\n",
    "stdout[:11]"
   ]
  },
  {
   "cell_type": "code",
   "execution_count": null,
   "metadata": {},
   "outputs": [],
   "source": [
    "dates = [[stdout[i].split(\",\")[0] for i in range(k,len(stdout),11)][0] for k in range(2,8,1)]\n",
    "dates = [datetime.strptime(d,'%Y%m%d').date() for d in dates]"
   ]
  },
  {
   "cell_type": "code",
   "execution_count": null,
   "metadata": {},
   "outputs": [],
   "source": [
    "date_volume = [[int(stdout[i].split(\",\")[1]) \n",
    "                for i in range(k,len(stdout),11)][0] for k in range(2,8,1)]"
   ]
  },
  {
   "cell_type": "code",
   "execution_count": null,
   "metadata": {},
   "outputs": [],
   "source": [
    "search = [(stdout[i-9],stdout[i].split(\",\")) for i in range(k,len(stdout),11) for k in range(9,10,11)]"
   ]
  },
  {
   "cell_type": "code",
   "execution_count": null,
   "metadata": {},
   "outputs": [],
   "source": [
    "search"
   ]
  },
  {
   "cell_type": "code",
   "execution_count": 138,
   "metadata": {},
   "outputs": [],
   "source": [
    "metrics = [{\"threads\":i[0], \"total_msgs\":i[1][0],\n",
    "            \"read_time\":i[1][1], \"search_time\":i[1][2],\n",
    "            \"volume_time\":i[1][3]} for i in search]"
   ]
  },
  {
   "cell_type": "markdown",
   "metadata": {},
   "source": [
    "## Performance Metrics"
   ]
  },
  {
   "cell_type": "code",
   "execution_count": 147,
   "metadata": {},
   "outputs": [],
   "source": [
    "data = pd.DataFrame.from_dict(metrics)\n",
    "data.read_time = data.read_time.astype(float)\n",
    "data.search_time = data.search_time.astype(float)\n",
    "data.threads = data.threads.astype(int)\n",
    "data.total_msgs = data.total_msgs.astype(int)\n",
    "data.volume_time = data.volume_time.astype(float)"
   ]
  },
  {
   "cell_type": "code",
   "execution_count": 148,
   "metadata": {},
   "outputs": [
    {
     "data": {
      "text/html": [
       "<div>\n",
       "<style>\n",
       "    .dataframe thead tr:only-child th {\n",
       "        text-align: right;\n",
       "    }\n",
       "\n",
       "    .dataframe thead th {\n",
       "        text-align: left;\n",
       "    }\n",
       "\n",
       "    .dataframe tbody tr th {\n",
       "        vertical-align: top;\n",
       "    }\n",
       "</style>\n",
       "<table border=\"1\" class=\"dataframe\">\n",
       "  <thead>\n",
       "    <tr style=\"text-align: right;\">\n",
       "      <th></th>\n",
       "      <th>read_time</th>\n",
       "      <th>search_time</th>\n",
       "      <th>threads</th>\n",
       "      <th>total_msgs</th>\n",
       "      <th>volume_time</th>\n",
       "    </tr>\n",
       "  </thead>\n",
       "  <tbody>\n",
       "    <tr>\n",
       "      <th>0</th>\n",
       "      <td>21.2661</td>\n",
       "      <td>2.999390</td>\n",
       "      <td>1</td>\n",
       "      <td>5314536</td>\n",
       "      <td>0.508576</td>\n",
       "    </tr>\n",
       "    <tr>\n",
       "      <th>1</th>\n",
       "      <td>13.9258</td>\n",
       "      <td>1.731480</td>\n",
       "      <td>2</td>\n",
       "      <td>5314536</td>\n",
       "      <td>0.241197</td>\n",
       "    </tr>\n",
       "    <tr>\n",
       "      <th>2</th>\n",
       "      <td>13.9777</td>\n",
       "      <td>1.116890</td>\n",
       "      <td>4</td>\n",
       "      <td>5314536</td>\n",
       "      <td>0.123258</td>\n",
       "    </tr>\n",
       "    <tr>\n",
       "      <th>3</th>\n",
       "      <td>13.5026</td>\n",
       "      <td>0.935056</td>\n",
       "      <td>6</td>\n",
       "      <td>5314536</td>\n",
       "      <td>0.077902</td>\n",
       "    </tr>\n",
       "    <tr>\n",
       "      <th>4</th>\n",
       "      <td>13.4928</td>\n",
       "      <td>0.787580</td>\n",
       "      <td>8</td>\n",
       "      <td>5314536</td>\n",
       "      <td>0.056750</td>\n",
       "    </tr>\n",
       "    <tr>\n",
       "      <th>5</th>\n",
       "      <td>13.5371</td>\n",
       "      <td>0.638159</td>\n",
       "      <td>16</td>\n",
       "      <td>5314536</td>\n",
       "      <td>0.029518</td>\n",
       "    </tr>\n",
       "    <tr>\n",
       "      <th>6</th>\n",
       "      <td>13.5384</td>\n",
       "      <td>0.686037</td>\n",
       "      <td>32</td>\n",
       "      <td>5314536</td>\n",
       "      <td>0.015489</td>\n",
       "    </tr>\n",
       "    <tr>\n",
       "      <th>7</th>\n",
       "      <td>13.5481</td>\n",
       "      <td>0.721308</td>\n",
       "      <td>64</td>\n",
       "      <td>5314536</td>\n",
       "      <td>0.007733</td>\n",
       "    </tr>\n",
       "  </tbody>\n",
       "</table>\n",
       "</div>"
      ],
      "text/plain": [
       "   read_time  search_time  threads  total_msgs  volume_time\n",
       "0    21.2661     2.999390        1     5314536     0.508576\n",
       "1    13.9258     1.731480        2     5314536     0.241197\n",
       "2    13.9777     1.116890        4     5314536     0.123258\n",
       "3    13.5026     0.935056        6     5314536     0.077902\n",
       "4    13.4928     0.787580        8     5314536     0.056750\n",
       "5    13.5371     0.638159       16     5314536     0.029518\n",
       "6    13.5384     0.686037       32     5314536     0.015489\n",
       "7    13.5481     0.721308       64     5314536     0.007733"
      ]
     },
     "execution_count": 148,
     "metadata": {},
     "output_type": "execute_result"
    }
   ],
   "source": [
    "data"
   ]
  },
  {
   "cell_type": "code",
   "execution_count": 149,
   "metadata": {},
   "outputs": [
    {
     "data": {
      "image/png": "[encoded data removed]",
      "text/plain": [
       "<matplotlib.figure.Figure at 0x2b2223da0050>"
      ]
     },
     "metadata": {},
     "output_type": "display_data"
    }
   ],
   "source": [
    "plot_benchmarks(data)"
   ]
  },
  {
   "cell_type": "markdown",
   "metadata": {},
   "source": [
    "## Daily Messages Volume"
   ]
  },
  {
   "cell_type": "code",
   "execution_count": null,
   "metadata": {},
   "outputs": [],
   "source": [
    "plt.figure(figsize=(8,8))\n",
    "fig = plt.subplot()\n",
    "fig.plot(dates, date_volume)\n",
    "fig.figure.autofmt_xdate()\n",
    "myFmt = DateFormatter(\"%Y-%m-%d\")\n",
    "fig.xaxis.set_major_formatter(myFmt)\n",
    "plt.show()"
   ]
  },
  {
   "cell_type": "markdown",
   "metadata": {},
   "source": [
    "## Benchmarks - May 2010 - Dataset"
   ]
  },
  {
   "cell_type": "code",
   "execution_count": 51,
   "metadata": {},
   "outputs": [],
   "source": [
    "path = \"02-report/output/\"\n",
    "files = sorted(list(os.walk(path))[0][2])\n",
    "year = pd.read_csv(\"02-report/volume.csv\")\n",
    "year['week'] = [str(datetime.strptime(i,'%m/%d/%y').date()) for i in year['week']]"
   ]
  },
  {
   "cell_type": "code",
   "execution_count": 52,
   "metadata": {},
   "outputs": [],
   "source": [
    "orderedfile = [{int(files[i].split(\"-\")[1].split(\"_\")[0]):files[i]} for k in range(5) for i in range(k,40,5)]"
   ]
  },
  {
   "cell_type": "code",
   "execution_count": 53,
   "metadata": {},
   "outputs": [],
   "source": [
    "df1 = []\n",
    "df2 = []\n",
    "for item in orderedfile:\n",
    "    k = list(item.keys())[0]\n",
    "    thread = item[k].split(\"-\")[0]\n",
    "    f = open(path+item[k],'r')\n",
    "    d = f.readlines()\n",
    "    header = d[7][:-1]\n",
    "    vol = pd.DataFrame([i.split(\",\") for i in d[1:6]],columns=['date','volume'])\n",
    "    vol['threads'] = thread\n",
    "    mtrs = pd.DataFrame([i.split(\",\") for i in d[8:]],columns=header.split(','))\n",
    "    mtrs['threads'] = thread\n",
    "    mtrs['date'] = vol.date\n",
    "    df1.append(mtrs)\n",
    "    df2.append(vol)\n",
    "f.close()"
   ]
  },
  {
   "cell_type": "code",
   "execution_count": 54,
   "metadata": {},
   "outputs": [],
   "source": [
    "metrics = pd.concat(df1)\n",
    "metrics['volume_time'] = [float(i) for i in metrics['volume_time']]\n",
    "metrics = metrics.reset_index()\n",
    "metrics['threads'] = [int(i) for i in metrics['threads']]\n",
    "metrics['date'] = [str(datetime.strptime(str(i),'%Y%m%d').date()) for i in metrics['date']]\n",
    "del metrics['index']"
   ]
  },
  {
   "cell_type": "code",
   "execution_count": 55,
   "metadata": {},
   "outputs": [],
   "source": [
    "metrics.read_time = metrics.read_time.astype(float)\n",
    "metrics.search_time = metrics.search_time.astype(float)\n",
    "metrics.threads = metrics.threads.astype(int)\n",
    "metrics.total_msgs = metrics.total_msgs.astype(int)\n",
    "metrics.volume_time = metrics.volume_time.astype(float)"
   ]
  },
  {
   "cell_type": "code",
   "execution_count": 56,
   "metadata": {},
   "outputs": [
    {
     "data": {
      "text/html": [
       "<div>\n",
       "<style scoped>\n",
       "    .dataframe tbody tr th:only-of-type {\n",
       "        vertical-align: middle;\n",
       "    }\n",
       "\n",
       "    .dataframe tbody tr th {\n",
       "        vertical-align: top;\n",
       "    }\n",
       "\n",
       "    .dataframe thead th {\n",
       "        text-align: right;\n",
       "    }\n",
       "</style>\n",
       "<table border=\"1\" class=\"dataframe\">\n",
       "  <thead>\n",
       "    <tr style=\"text-align: right;\">\n",
       "      <th></th>\n",
       "      <th>total_msgs</th>\n",
       "      <th>read_time</th>\n",
       "      <th>search_time</th>\n",
       "      <th>volume_time</th>\n",
       "      <th>threads</th>\n",
       "      <th>date</th>\n",
       "    </tr>\n",
       "  </thead>\n",
       "  <tbody>\n",
       "    <tr>\n",
       "      <th>0</th>\n",
       "      <td>50846717</td>\n",
       "      <td>150.680</td>\n",
       "      <td>25.70200</td>\n",
       "      <td>5.252070</td>\n",
       "      <td>1</td>\n",
       "      <td>2010-05-02</td>\n",
       "    </tr>\n",
       "    <tr>\n",
       "      <th>1</th>\n",
       "      <td>50846717</td>\n",
       "      <td>106.038</td>\n",
       "      <td>4.84808</td>\n",
       "      <td>0.275994</td>\n",
       "      <td>16</td>\n",
       "      <td>2010-05-02</td>\n",
       "    </tr>\n",
       "    <tr>\n",
       "      <th>2</th>\n",
       "      <td>50846717</td>\n",
       "      <td>108.555</td>\n",
       "      <td>15.09720</td>\n",
       "      <td>2.433970</td>\n",
       "      <td>2</td>\n",
       "      <td>2010-05-02</td>\n",
       "    </tr>\n",
       "    <tr>\n",
       "      <th>3</th>\n",
       "      <td>50846717</td>\n",
       "      <td>106.644</td>\n",
       "      <td>4.06246</td>\n",
       "      <td>0.138209</td>\n",
       "      <td>32</td>\n",
       "      <td>2010-05-02</td>\n",
       "    </tr>\n",
       "    <tr>\n",
       "      <th>4</th>\n",
       "      <td>50846717</td>\n",
       "      <td>104.643</td>\n",
       "      <td>10.50430</td>\n",
       "      <td>1.084580</td>\n",
       "      <td>4</td>\n",
       "      <td>2010-05-02</td>\n",
       "    </tr>\n",
       "    <tr>\n",
       "      <th>5</th>\n",
       "      <td>50846717</td>\n",
       "      <td>111.118</td>\n",
       "      <td>8.60050</td>\n",
       "      <td>0.739922</td>\n",
       "      <td>6</td>\n",
       "      <td>2010-05-02</td>\n",
       "    </tr>\n",
       "    <tr>\n",
       "      <th>6</th>\n",
       "      <td>50846717</td>\n",
       "      <td>106.865</td>\n",
       "      <td>4.82214</td>\n",
       "      <td>0.070694</td>\n",
       "      <td>64</td>\n",
       "      <td>2010-05-02</td>\n",
       "    </tr>\n",
       "    <tr>\n",
       "      <th>7</th>\n",
       "      <td>50846717</td>\n",
       "      <td>105.937</td>\n",
       "      <td>6.38752</td>\n",
       "      <td>0.551850</td>\n",
       "      <td>8</td>\n",
       "      <td>2010-05-02</td>\n",
       "    </tr>\n",
       "  </tbody>\n",
       "</table>\n",
       "</div>"
      ],
      "text/plain": [
       "   total_msgs  read_time  search_time  volume_time  threads        date\n",
       "0    50846717    150.680     25.70200     5.252070        1  2010-05-02\n",
       "1    50846717    106.038      4.84808     0.275994       16  2010-05-02\n",
       "2    50846717    108.555     15.09720     2.433970        2  2010-05-02\n",
       "3    50846717    106.644      4.06246     0.138209       32  2010-05-02\n",
       "4    50846717    104.643     10.50430     1.084580        4  2010-05-02\n",
       "5    50846717    111.118      8.60050     0.739922        6  2010-05-02\n",
       "6    50846717    106.865      4.82214     0.070694       64  2010-05-02\n",
       "7    50846717    105.937      6.38752     0.551850        8  2010-05-02"
      ]
     },
     "execution_count": 56,
     "metadata": {},
     "output_type": "execute_result"
    }
   ],
   "source": [
    "metrics.head(8)"
   ]
  },
  {
   "cell_type": "code",
   "execution_count": 57,
   "metadata": {},
   "outputs": [
    {
     "data": {
      "image/png": "[encoded data removed]",
      "text/plain": [
       "<matplotlib.figure.Figure at 0x11baae278>"
      ]
     },
     "metadata": {},
     "output_type": "display_data"
    }
   ],
   "source": [
    "df = metrics[metrics.date=='2010-05-02'].sort_values('threads')\n",
    "plot_benchmarks(df)"
   ]
  },
  {
   "cell_type": "code",
   "execution_count": 58,
   "metadata": {},
   "outputs": [],
   "source": [
    "volume = pd.concat(df2)\n",
    "volume['date'] = [str(datetime.strptime(i,'%Y%m%d').date()) for i in volume['date']]\n",
    "volume['volume'] = [int(i) for i in volume['volume']]"
   ]
  },
  {
   "cell_type": "code",
   "execution_count": 59,
   "metadata": {},
   "outputs": [
    {
     "data": {
      "text/html": [
       "<table style=\"display:inline\" border=\"1\" class=\"dataframe\">\n",
       "  <thead>\n",
       "    <tr style=\"text-align: right;\">\n",
       "      <th></th>\n",
       "      <th>date</th>\n",
       "      <th>volume</th>\n",
       "      <th>threads</th>\n",
       "    </tr>\n",
       "  </thead>\n",
       "  <tbody>\n",
       "    <tr>\n",
       "      <th>2</th>\n",
       "      <td>2010-05-04</td>\n",
       "      <td>8265188</td>\n",
       "      <td>1</td>\n",
       "    </tr>\n",
       "    <tr>\n",
       "      <th>2</th>\n",
       "      <td>2010-05-04</td>\n",
       "      <td>8265188</td>\n",
       "      <td>16</td>\n",
       "    </tr>\n",
       "    <tr>\n",
       "      <th>2</th>\n",
       "      <td>2010-05-04</td>\n",
       "      <td>8265188</td>\n",
       "      <td>2</td>\n",
       "    </tr>\n",
       "    <tr>\n",
       "      <th>2</th>\n",
       "      <td>2010-05-04</td>\n",
       "      <td>8265188</td>\n",
       "      <td>32</td>\n",
       "    </tr>\n",
       "    <tr>\n",
       "      <th>2</th>\n",
       "      <td>2010-05-04</td>\n",
       "      <td>8265188</td>\n",
       "      <td>4</td>\n",
       "    </tr>\n",
       "    <tr>\n",
       "      <th>2</th>\n",
       "      <td>2010-05-04</td>\n",
       "      <td>8265188</td>\n",
       "      <td>6</td>\n",
       "    </tr>\n",
       "    <tr>\n",
       "      <th>2</th>\n",
       "      <td>2010-05-04</td>\n",
       "      <td>8265188</td>\n",
       "      <td>64</td>\n",
       "    </tr>\n",
       "    <tr>\n",
       "      <th>2</th>\n",
       "      <td>2010-05-04</td>\n",
       "      <td>8265188</td>\n",
       "      <td>8</td>\n",
       "    </tr>\n",
       "  </tbody>\n",
       "</table style=\"display:inline\"><table style=\"display:inline\" border=\"1\" class=\"dataframe\">\n",
       "  <thead>\n",
       "    <tr style=\"text-align: right;\">\n",
       "      <th></th>\n",
       "      <th>date</th>\n",
       "      <th>volume</th>\n",
       "      <th>threads</th>\n",
       "    </tr>\n",
       "  </thead>\n",
       "  <tbody>\n",
       "    <tr>\n",
       "      <th>3</th>\n",
       "      <td>2010-05-05</td>\n",
       "      <td>8316943</td>\n",
       "      <td>1</td>\n",
       "    </tr>\n",
       "    <tr>\n",
       "      <th>3</th>\n",
       "      <td>2010-05-05</td>\n",
       "      <td>8316943</td>\n",
       "      <td>16</td>\n",
       "    </tr>\n",
       "    <tr>\n",
       "      <th>3</th>\n",
       "      <td>2010-05-05</td>\n",
       "      <td>8316943</td>\n",
       "      <td>2</td>\n",
       "    </tr>\n",
       "    <tr>\n",
       "      <th>3</th>\n",
       "      <td>2010-05-05</td>\n",
       "      <td>8316943</td>\n",
       "      <td>32</td>\n",
       "    </tr>\n",
       "    <tr>\n",
       "      <th>3</th>\n",
       "      <td>2010-05-05</td>\n",
       "      <td>8316943</td>\n",
       "      <td>4</td>\n",
       "    </tr>\n",
       "    <tr>\n",
       "      <th>3</th>\n",
       "      <td>2010-05-05</td>\n",
       "      <td>8316943</td>\n",
       "      <td>6</td>\n",
       "    </tr>\n",
       "    <tr>\n",
       "      <th>3</th>\n",
       "      <td>2010-05-05</td>\n",
       "      <td>8316943</td>\n",
       "      <td>64</td>\n",
       "    </tr>\n",
       "    <tr>\n",
       "      <th>3</th>\n",
       "      <td>2010-05-05</td>\n",
       "      <td>8316943</td>\n",
       "      <td>8</td>\n",
       "    </tr>\n",
       "  </tbody>\n",
       "</table style=\"display:inline\"><table style=\"display:inline\" border=\"1\" class=\"dataframe\">\n",
       "  <thead>\n",
       "    <tr style=\"text-align: right;\">\n",
       "      <th></th>\n",
       "      <th>date</th>\n",
       "      <th>volume</th>\n",
       "      <th>threads</th>\n",
       "    </tr>\n",
       "  </thead>\n",
       "  <tbody>\n",
       "    <tr>\n",
       "      <th>4</th>\n",
       "      <td>2010-05-06</td>\n",
       "      <td>12355001</td>\n",
       "      <td>1</td>\n",
       "    </tr>\n",
       "    <tr>\n",
       "      <th>4</th>\n",
       "      <td>2010-05-06</td>\n",
       "      <td>12355001</td>\n",
       "      <td>16</td>\n",
       "    </tr>\n",
       "    <tr>\n",
       "      <th>4</th>\n",
       "      <td>2010-05-06</td>\n",
       "      <td>12355001</td>\n",
       "      <td>2</td>\n",
       "    </tr>\n",
       "    <tr>\n",
       "      <th>4</th>\n",
       "      <td>2010-05-06</td>\n",
       "      <td>12355001</td>\n",
       "      <td>32</td>\n",
       "    </tr>\n",
       "    <tr>\n",
       "      <th>4</th>\n",
       "      <td>2010-05-06</td>\n",
       "      <td>12355001</td>\n",
       "      <td>4</td>\n",
       "    </tr>\n",
       "    <tr>\n",
       "      <th>4</th>\n",
       "      <td>2010-05-06</td>\n",
       "      <td>12355001</td>\n",
       "      <td>6</td>\n",
       "    </tr>\n",
       "    <tr>\n",
       "      <th>4</th>\n",
       "      <td>2010-05-06</td>\n",
       "      <td>12355001</td>\n",
       "      <td>64</td>\n",
       "    </tr>\n",
       "    <tr>\n",
       "      <th>4</th>\n",
       "      <td>2010-05-06</td>\n",
       "      <td>12355001</td>\n",
       "      <td>8</td>\n",
       "    </tr>\n",
       "  </tbody>\n",
       "</table style=\"display:inline\">"
      ]
     },
     "metadata": {},
     "output_type": "display_data"
    }
   ],
   "source": [
    "display(volume[volume.date==\"2010-05-04\"], \n",
    "        volume[volume.date==\"2010-05-05\"],\n",
    "        volume[volume.date==\"2010-05-06\"])"
   ]
  },
  {
   "cell_type": "code",
   "execution_count": 60,
   "metadata": {},
   "outputs": [],
   "source": [
    "may = volume[volume.threads=='1']"
   ]
  },
  {
   "cell_type": "code",
   "execution_count": 61,
   "metadata": {},
   "outputs": [
    {
     "data": {
      "image/png": "[encoded data removed]",
      "text/plain": [
       "<matplotlib.figure.Figure at 0x11bbd2fd0>"
      ]
     },
     "metadata": {},
     "output_type": "display_data"
    }
   ],
   "source": [
    "x = list(range(len(may['date'])))\n",
    "y = may['volume']\n",
    "plt.figure(figsize=(12,12))\n",
    "fig = plt.subplot()\n",
    "fig.bar(x,y)\n",
    "plt.xticks(x, list(may['date']))\n",
    "fig.figure.autofmt_xdate()\n",
    "fig.yaxis.set_major_formatter(FormatStrFormatter('%.0f'))\n",
    "plt.show()"
   ]
  },
  {
   "cell_type": "code",
   "execution_count": 62,
   "metadata": {},
   "outputs": [
    {
     "data": {
      "text/html": [
       "<div>\n",
       "<style scoped>\n",
       "    .dataframe tbody tr th:only-of-type {\n",
       "        vertical-align: middle;\n",
       "    }\n",
       "\n",
       "    .dataframe tbody tr th {\n",
       "        vertical-align: top;\n",
       "    }\n",
       "\n",
       "    .dataframe thead th {\n",
       "        text-align: right;\n",
       "    }\n",
       "</style>\n",
       "<table border=\"1\" class=\"dataframe\">\n",
       "  <thead>\n",
       "    <tr style=\"text-align: right;\">\n",
       "      <th></th>\n",
       "      <th>week</th>\n",
       "      <th>lines</th>\n",
       "    </tr>\n",
       "  </thead>\n",
       "  <tbody>\n",
       "    <tr>\n",
       "      <th>13</th>\n",
       "      <td>2010-04-09</td>\n",
       "      <td>15046450</td>\n",
       "    </tr>\n",
       "    <tr>\n",
       "      <th>14</th>\n",
       "      <td>2010-04-16</td>\n",
       "      <td>17452913</td>\n",
       "    </tr>\n",
       "    <tr>\n",
       "      <th>15</th>\n",
       "      <td>2010-04-23</td>\n",
       "      <td>24877428</td>\n",
       "    </tr>\n",
       "    <tr>\n",
       "      <th>16</th>\n",
       "      <td>2010-04-30</td>\n",
       "      <td>32124000</td>\n",
       "    </tr>\n",
       "    <tr>\n",
       "      <th>17</th>\n",
       "      <td>2010-05-07</td>\n",
       "      <td>50846717</td>\n",
       "    </tr>\n",
       "    <tr>\n",
       "      <th>18</th>\n",
       "      <td>2010-05-14</td>\n",
       "      <td>43593190</td>\n",
       "    </tr>\n",
       "    <tr>\n",
       "      <th>19</th>\n",
       "      <td>2010-05-21</td>\n",
       "      <td>62586111</td>\n",
       "    </tr>\n",
       "    <tr>\n",
       "      <th>20</th>\n",
       "      <td>2010-05-28</td>\n",
       "      <td>41407982</td>\n",
       "    </tr>\n",
       "    <tr>\n",
       "      <th>21</th>\n",
       "      <td>2010-06-04</td>\n",
       "      <td>31720486</td>\n",
       "    </tr>\n",
       "    <tr>\n",
       "      <th>22</th>\n",
       "      <td>2010-06-11</td>\n",
       "      <td>46319407</td>\n",
       "    </tr>\n",
       "    <tr>\n",
       "      <th>23</th>\n",
       "      <td>2010-06-18</td>\n",
       "      <td>32762000</td>\n",
       "    </tr>\n",
       "    <tr>\n",
       "      <th>24</th>\n",
       "      <td>2010-06-25</td>\n",
       "      <td>35292074</td>\n",
       "    </tr>\n",
       "  </tbody>\n",
       "</table>\n",
       "</div>"
      ],
      "text/plain": [
       "          week     lines\n",
       "13  2010-04-09  15046450\n",
       "14  2010-04-16  17452913\n",
       "15  2010-04-23  24877428\n",
       "16  2010-04-30  32124000\n",
       "17  2010-05-07  50846717\n",
       "18  2010-05-14  43593190\n",
       "19  2010-05-21  62586111\n",
       "20  2010-05-28  41407982\n",
       "21  2010-06-04  31720486\n",
       "22  2010-06-11  46319407\n",
       "23  2010-06-18  32762000\n",
       "24  2010-06-25  35292074"
      ]
     },
     "execution_count": 62,
     "metadata": {},
     "output_type": "execute_result"
    }
   ],
   "source": [
    "year [(year['week']>\"2010-04-02\")&(year['week']<=\"2010-06-25\")]"
   ]
  },
  {
   "cell_type": "code",
   "execution_count": 95,
   "metadata": {},
   "outputs": [
    {
     "data": {
      "image/png": "[encoded data removed]",
      "text/plain": [
       "<matplotlib.figure.Figure at 0x11bb53e48>"
      ]
     },
     "metadata": {},
     "output_type": "display_data"
    }
   ],
   "source": [
    "benchmarks(df)"
   ]
  },
  {
   "cell_type": "code",
   "execution_count": 63,
   "metadata": {},
   "outputs": [
    {
     "data": {
      "text/plain": [
       "27094889.46153846"
      ]
     },
     "execution_count": 63,
     "metadata": {},
     "output_type": "execute_result"
    }
   ],
   "source": [
    "year.lines.mean()"
   ]
  },
  {
   "cell_type": "code",
   "execution_count": 37,
   "metadata": {},
   "outputs": [
    {
     "data": {
      "image/png": "[encoded data removed]",
      "text/plain": [
       "<matplotlib.figure.Figure at 0x11c604be0>"
      ]
     },
     "metadata": {},
     "output_type": "display_data"
    }
   ],
   "source": [
    "x = list(range(len(year['week'])))\n",
    "y = year['lines']\n",
    "plt.figure(figsize=(14,10))\n",
    "fig = plt.subplot()\n",
    "fig.bar(x,y)\n",
    "plt.xticks(x, list(year['week']))\n",
    "fig.figure.autofmt_xdate(rotation=90)\n",
    "fig.yaxis.set_major_formatter(FormatStrFormatter('%.0f'))\n",
    "plt.show()"
   ]
  },
  {
   "cell_type": "markdown",
   "metadata": {},
   "source": [
    "# Spark/Hadoop Approach on Wrangler"
   ]
  },
  {
   "cell_type": "markdown",
   "metadata": {},
   "source": [
    "### Notebook Spark Setup \n",
    "\n",
    "The package findspark is very important as it will help to find Spark in the system. If the enviroment variable SPARK_HOME is setup then just need to run `findspark.find()`. It is also possible to give the direct path to the find Spark using the `findspark.init(/path/to/spark/)`"
   ]
  },
  {
   "cell_type": "code",
   "execution_count": null,
   "metadata": {
    "collapsed": true
   },
   "outputs": [],
   "source": [
    "import findspark \n",
    "findspark.init('/usr/lib/spark', edit_profile=True)\n",
    "findspark.find()"
   ]
  },
  {
   "cell_type": "markdown",
   "metadata": {},
   "source": [
    "After finding spark then it is possible to `import pyspark` and start the `SparkContext`"
   ]
  },
  {
   "cell_type": "code",
   "execution_count": null,
   "metadata": {
    "collapsed": true
   },
   "outputs": [],
   "source": [
    "import pyspark\n",
    "sc = pyspark.SparkContext(appName=\"fixAnalyzer\")"
   ]
  },
  {
   "cell_type": "code",
   "execution_count": 17,
   "metadata": {
    "collapsed": true
   },
   "outputs": [],
   "source": [
    "path = \"/data/05191/jlroo/raw\"\n",
    "files = list(os.walk(path))[0][2]\n",
    "hdfs = \"hdfs://\" + \"/user/jlroo/cme/\""
   ]
  },
  {
   "cell_type": "code",
   "execution_count": null,
   "metadata": {
    "collapsed": true
   },
   "outputs": [],
   "source": [
    "wkfiles = {int(i.split(\"_\")[-2]):sc.textFile(hdfs + i) for i in files}\n",
    "data = OrderedDict(sorted(wkfiles.items(), key=lambda t: t[0]))"
   ]
  },
  {
   "cell_type": "code",
   "execution_count": null,
   "metadata": {
    "collapsed": true
   },
   "outputs": [],
   "source": [
    "count = {key:data[key].count() for key in data}"
   ]
  },
  {
   "cell_type": "code",
   "execution_count": null,
   "metadata": {
    "collapsed": true
   },
   "outputs": [],
   "source": [
    "df = data['20100409'].map(lambda r: Row(r)).toDF([\"line\"])"
   ]
  }
 ],
 "metadata": {
  "hide_input": false,
  "kernelspec": {
   "display_name": "Python 3",
   "language": "python",
   "name": "python3"
  },
  "language_info": {
   "codemirror_mode": {
    "name": "ipython",
    "version": 3
   },
   "file_extension": ".py",
   "mimetype": "text/x-python",
   "name": "python",
   "nbconvert_exporter": "python",
   "pygments_lexer": "ipython3",
   "version": "3.6.3"
  },
  "toc": {
   "nav_menu": {},
   "number_sections": false,
   "sideBar": true,
   "skip_h1_title": false,
   "toc_cell": true,
   "toc_position": {
    "height": "530px",
    "left": "0px",
    "right": "940px",
    "top": "112px",
    "width": "212px"
   },
   "toc_section_display": "none",
   "toc_window_display": false
  }
 },
 "nbformat": 4,
 "nbformat_minor": 2
}
