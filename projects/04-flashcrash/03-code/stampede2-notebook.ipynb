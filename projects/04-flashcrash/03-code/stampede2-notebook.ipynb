{
 "cells": [
  {
   "cell_type": "markdown",
   "metadata": {
    "toc": true
   },
   "source": [
    "<h1>Table of Contents<span class=\"tocSkip\"></span></h1>\n",
    "<div class=\"toc\" style=\"margin-top: 1em;\"><ul class=\"toc-item\"><li><span><a href=\"#High-Frequency-Trading-&amp;-2010-Market-Flash-Crash\" data-toc-modified-id=\"High-Frequency-Trading-&amp;-2010-Market-Flash-Crash-1\">High Frequency Trading &amp; 2010 Market Flash Crash</a></span><ul class=\"toc-item\"><li><span><a href=\"#Introduction\" data-toc-modified-id=\"Introduction-1.1\">Introduction</a></span></li><li><span><a href=\"#Methodology\" data-toc-modified-id=\"Methodology-1.2\">Methodology</a></span></li><li><span><a href=\"#Packages-and-Functions\" data-toc-modified-id=\"Packages-and-Functions-1.3\">Packages and Functions</a></span></li><li><span><a href=\"#Data-Size-and-Exploration\" data-toc-modified-id=\"Data-Size-and-Exploration-1.4\">Data Size and Exploration</a></span></li></ul></li><li><span><a href=\"#OpenMP-Approach-on-Stampede2\" data-toc-modified-id=\"OpenMP-Approach-on-Stampede2-2\">OpenMP Approach on Stampede2</a></span><ul class=\"toc-item\"><li><span><a href=\"#Data-Processing\" data-toc-modified-id=\"Data-Processing-2.1\">Data Processing</a></span></li><li><span><a href=\"#Plots-and-Metrics\" data-toc-modified-id=\"Plots-and-Metrics-2.2\">Plots and Metrics</a></span></li><li><span><a href=\"#Daily-Messages-Volume\" data-toc-modified-id=\"Daily-Messages-Volume-2.3\">Daily Messages Volume</a></span></li></ul></li><li><span><a href=\"#Spark/Hadoop-Approach-on-Wrangler\" data-toc-modified-id=\"Spark/Hadoop-Approach-on-Wrangler-3\">Spark/Hadoop Approach on Wrangler</a></span><ul class=\"toc-item\"><li><ul class=\"toc-item\"><li><span><a href=\"#Notebook-Spark-Setup\" data-toc-modified-id=\"Notebook-Spark-Setup-3.0.1\">Notebook Spark Setup</a></span></li></ul></li></ul></li></ul></div>"
   ]
  },
  {
   "cell_type": "markdown",
   "metadata": {},
   "source": [
    "# High Frequency Trading & 2010 Market Flash Crash\n",
    "\n",
    "**Jose Luis Rodriguez**\n",
    "\n",
    "**COMP 488 Machine Learning** \n",
    "\n",
    "**Loyola University Chicago**"
   ]
  },
  {
   "cell_type": "markdown",
   "metadata": {},
   "source": [
    "## Introduction \n",
    "\n",
    "As computational capabilities continue to grow exponentially and financial markets around the world are increasingly dependable on automated systems it is worth to spend some time analysis the market depth data of the weeks leading to and the day of May 6, 2010 to have a better understanding of market behavior during this high volatility period and to compare some of this project findings with official report to congress from the CFTC and SEC. The data used in this project is from CME Group and corresponds to market depth transactions in milliseconds of the E-Mini S\\&P 500 futures and options contracts. "
   ]
  },
  {
   "cell_type": "markdown",
   "metadata": {},
   "source": [
    "## Methodology\n",
    "\n",
    "The market depth data that the CME Group provides contains all market data messages required to recreate the order book (list of orders that a trading firm uses to record the interest of buyers and sellers in a particular financial instrument.) each message contains between five to ten orders deep in futures markets and three orders deep in options markets this data is time stamped to the millisecond allowing for an in depth analysis of the price movement.\n",
    "\n",
    "In order to process the large volume of transactions (millions of transactions per week) and the goal is to compute daily, hourly, minute, seconds, millisecond volume and other data metrics it is necessary to implement statistical operations such as distributions, average in parallel as well as filtering map-reduce type jobs are ideal for type of task as the nature of the data (independent transactions) allows for parallel processing in most cases."
   ]
  },
  {
   "cell_type": "markdown",
   "metadata": {},
   "source": [
    "## Packages and Functions \n",
    "The following packages and functions are common python packages."
   ]
  },
  {
   "cell_type": "code",
   "execution_count": 1,
   "metadata": {
    "collapsed": true
   },
   "outputs": [],
   "source": [
    "import os\n",
    "import time\n",
    "import pandas as pd\n",
    "from datetime import datetime\n",
    "from collections import OrderedDict\n",
    "from matplotlib.dates import DateFormatter\n",
    "import matplotlib.pyplot as plt\n",
    "%matplotlib inline"
   ]
  },
  {
   "cell_type": "markdown",
   "metadata": {},
   "source": [
    "## Data Size and Exploration  "
   ]
  },
  {
   "cell_type": "code",
   "execution_count": 131,
   "metadata": {},
   "outputs": [
    {
     "name": "stdout",
     "output_type": "stream",
     "text": [
      "jlroo G-817104  27G Dec  3 19:59 XCME_MD_ES_20100503_20100507\n",
      "jlroo G-817104  23G Dec  3 20:00 XCME_MD_ES_20100510_20100514\n",
      "jlroo G-817104  31G Dec  3 20:00 XCME_MD_ES_20100517_20100521\n",
      "jlroo G-817104  21G Dec  3 19:58 XCME_MD_ES_20100524_20100528\n",
      "jlroo G-817104  16G Dec  3 19:58 XCME_MD_ES_20100531_20100604\n"
     ]
    }
   ],
   "source": [
    "%%bash\n",
    "ls -la -h $WORK/data/05/ | grep -o \"jlroo .*.\" |  tail -n +3"
   ]
  },
  {
   "cell_type": "code",
   "execution_count": 132,
   "metadata": {},
   "outputs": [
    {
     "name": "stdout",
     "output_type": "stream",
     "text": [
      "jlroo G-817104  13G Dec  3 20:00 XCME_MD_ES_20101206_20101210\n",
      "jlroo G-817104  12G Dec  3 20:01 XCME_MD_ES_20101213_20101217\n",
      "jlroo G-817104 4.8G Dec  3 20:00 XCME_MD_ES_20101220_20101224\n",
      "jlroo G-817104 3.9G Dec  3 20:01 XCME_MD_ES_20101227_20101231\n"
     ]
    }
   ],
   "source": [
    "%%bash\n",
    "ls -la -h $WORK/data/12/ | grep -o \"jlroo .*.\" |  tail -n +3"
   ]
  },
  {
   "cell_type": "code",
   "execution_count": 133,
   "metadata": {},
   "outputs": [
    {
     "name": "stdout",
     "output_type": "stream",
     "text": [
      "1128=9\u00019=156\u000135=X\u000149=CME\u000134=16058329\u000152=20101231221250733\u000175=20101231\u0001268=1\u0001279=0\u000122=8\u000148=283034\u000164=20101231\u000183=7180\u0001107=ESZ1 P0960\u0001269=6\u0001270=3100\u0001273=221202000\u0001286=100\u000110=179\u0001\n",
      "1128=9\u00019=156\u000135=X\u000149=CME\u000134=16058330\u000152=20101231221250733\u000175=20101231\u0001268=1\u0001279=0\u000122=8\u000148=283034\u000164=20101231\u000183=7181\u0001107=ESZ1 P0960\u0001269=6\u0001270=3110\u0001273=221202000\u0001286=101\u000110=174\u0001\n",
      "1128=9\u00019=156\u000135=X\u000149=CME\u000134=16058331\u000152=20101231221250743\u000175=20101231\u0001268=1\u0001279=0\u000122=8\u000148=652649\u000164=20101231\u000183=7099\u0001107=ESZ1 P0970\u0001269=6\u0001270=3275\u0001273=221202000\u0001286=100\u000110=208\u0001\n",
      "1128=9\u00019=156\u000135=X\u000149=CME\u000134=16058332\u000152=20101231221250743\u000175=20101231\u0001268=1\u0001279=0\u000122=8\u000148=652649\u000164=20101231\u000183=7100\u0001107=ESZ1 P0970\u0001269=6\u0001270=3270\u0001273=221202000\u0001286=101\u000110=188\u0001\n",
      "1128=9\u00019=157\u000135=X\u000149=CME\u000134=16058333\u000152=20101231221250753\u000175=20101231\u0001268=1\u0001279=0\u000122=8\u000148=281954\u000164=20101231\u000183=10148\u0001107=ESZ1 P0975\u0001269=6\u0001270=3350\u0001273=221202000\u0001286=100\u000110=245\u0001\n",
      "1128=9\u00019=157\u000135=X\u000149=CME\u000134=16058334\u000152=20101231221250753\u000175=20101231\u0001268=1\u0001279=0\u000122=8\u000148=281954\u000164=20101231\u000183=10149\u0001107=ESZ1 P0975\u0001269=6\u0001270=3340\u0001273=221202000\u0001286=101\u000110=247\u0001\n",
      "1128=9\u00019=157\u000135=X\u000149=CME\u000134=16058335\u000152=20101231221250753\u000175=20101231\u0001268=1\u0001279=0\u000122=8\u000148=374096\u000164=20101231\u000183=10352\u0001107=ESZ1 P0980\u0001269=6\u0001270=3425\u0001273=221202000\u0001286=100\u000110=243\u0001\n",
      "1128=9\u00019=157\u000135=X\u000149=CME\u000134=16058336\u000152=20101231221250753\u000175=20101231\u0001268=1\u0001279=0\u000122=8\u000148=374096\u000164=20101231\u000183=10353\u0001107=ESZ1 P0980\u0001269=6\u0001270=3420\u0001273=221202000\u0001286=101\u000110=241\u0001\n",
      "1128=9\u00019=156\u000135=X\u000149=CME\u000134=16058337\u000152=20101231221250763\u000175=20101231\u0001268=1\u0001279=0\u000122=8\u000148=45535\u000164=20101231\u000183=10933\u0001107=ESZ1 P0990\u0001269=6\u0001270=3575\u0001273=221202000\u0001286=100\u000110=202\u0001\n",
      "1128=9\u00019=156\u000135=X\u000149=CME\u000134=16058338\u000152=20101231221250763\u000175=20101231\u0001268=1\u0001279=0\u000122=8\u000148=45535\u000164=20101231\u000183=10934\u0001107=ESZ1 P0990\u0001269=6\u0001270=3580\u0001273=221202000\u0001286=101\u000110=201\u0001\n"
     ]
    }
   ],
   "source": [
    "%%bash\n",
    "tail -n 10 $WORK/data/12/XCME_MD_ES_20101227_20101231"
   ]
  },
  {
   "cell_type": "markdown",
   "metadata": {},
   "source": [
    "# OpenMP Approach on Stampede2\n",
    "\n",
    "The application `fixanalyzer`, was compiled using the intel icpc g++ compiler with openMP pragmas enable in order to process and analyze the data in parallel. \n",
    "\n",
    "A bash command is run to execute the application and run some benchmarks. The output is pipe to python to generate some plots and metrics. "
   ]
  },
  {
   "cell_type": "code",
   "execution_count": 134,
   "metadata": {},
   "outputs": [],
   "source": [
    "%%bash --out output\n",
    "for t in 1 2 4 6 8 16 32 64;\n",
    "do OMP_NUM_THREADS=$t;\n",
    "echo $t\n",
    "$HOME/fixanalyzer -p $WORK/data/12/XCME_MD_ES_20101227_20101231 -t 52 -n 4 -m 8; \n",
    "echo \" \"\n",
    "done"
   ]
  },
  {
   "cell_type": "markdown",
   "metadata": {},
   "source": [
    "## Data Processing"
   ]
  },
  {
   "cell_type": "code",
   "execution_count": 135,
   "metadata": {},
   "outputs": [
    {
     "data": {
      "text/plain": [
       "['1',\n",
       " 'date,volume',\n",
       " '20101226,25434',\n",
       " '20101227,946479',\n",
       " '20101228,975735',\n",
       " '20101229,1017509',\n",
       " '20101230,1417733',\n",
       " '20101231,931646',\n",
       " 'total_msgs,read_time,search_time,volume_time',\n",
       " '5314536,21.2661,2.99939,0.508576',\n",
       " ' ']"
      ]
     },
     "execution_count": 135,
     "metadata": {},
     "output_type": "execute_result"
    }
   ],
   "source": [
    "stdout = output.split(\"\\n\")[:-1]\n",
    "stdout[:11]"
   ]
  },
  {
   "cell_type": "code",
   "execution_count": 138,
   "metadata": {},
   "outputs": [],
   "source": [
    "dates = [[stdout[i].split(\",\")[0] for i in range(k,len(stdout),11)][0] for k in range(2,8,1)]\n",
    "\n",
    "dates = [datetime.strptime(d,'%Y%m%d').date() for d in dates]\n",
    "\n",
    "date_volume = [[int(stdout[i].split(\",\")[1]) for i in range(k,len(stdout),11)][0] for k in range(2,8,1)]\n",
    "\n",
    "search = [(stdout[i-9],stdout[i].split(\",\")) for i in range(k,len(stdout),11) for k in range(9,10,11)]\n",
    "\n",
    "metrics = [{\"threads\":i[0], \"total_msgs\":i[1][0],\n",
    "            \"read_time\":i[1][1], \"search_time\":i[1][2],\n",
    "            \"volume_time\":i[1][3]} for i in search]"
   ]
  },
  {
   "cell_type": "markdown",
   "metadata": {},
   "source": [
    "## Plots and Metrics"
   ]
  },
  {
   "cell_type": "code",
   "execution_count": 147,
   "metadata": {},
   "outputs": [],
   "source": [
    "data = pd.DataFrame.from_dict(metrics)\n",
    "data = data.astype({'read_time':float, 'search_time':float,'threads':int, 'total_msgs':int, 'volume_time':float})"
   ]
  },
  {
   "cell_type": "code",
   "execution_count": 148,
   "metadata": {},
   "outputs": [
    {
     "data": {
      "text/html": [
       "<div>\n",
       "<style>\n",
       "    .dataframe thead tr:only-child th {\n",
       "        text-align: right;\n",
       "    }\n",
       "\n",
       "    .dataframe thead th {\n",
       "        text-align: left;\n",
       "    }\n",
       "\n",
       "    .dataframe tbody tr th {\n",
       "        vertical-align: top;\n",
       "    }\n",
       "</style>\n",
       "<table border=\"1\" class=\"dataframe\">\n",
       "  <thead>\n",
       "    <tr style=\"text-align: right;\">\n",
       "      <th></th>\n",
       "      <th>read_time</th>\n",
       "      <th>search_time</th>\n",
       "      <th>threads</th>\n",
       "      <th>total_msgs</th>\n",
       "      <th>volume_time</th>\n",
       "    </tr>\n",
       "  </thead>\n",
       "  <tbody>\n",
       "    <tr>\n",
       "      <th>0</th>\n",
       "      <td>21.2661</td>\n",
       "      <td>2.999390</td>\n",
       "      <td>1</td>\n",
       "      <td>5314536</td>\n",
       "      <td>0.508576</td>\n",
       "    </tr>\n",
       "    <tr>\n",
       "      <th>1</th>\n",
       "      <td>13.9258</td>\n",
       "      <td>1.731480</td>\n",
       "      <td>2</td>\n",
       "      <td>5314536</td>\n",
       "      <td>0.241197</td>\n",
       "    </tr>\n",
       "    <tr>\n",
       "      <th>2</th>\n",
       "      <td>13.9777</td>\n",
       "      <td>1.116890</td>\n",
       "      <td>4</td>\n",
       "      <td>5314536</td>\n",
       "      <td>0.123258</td>\n",
       "    </tr>\n",
       "    <tr>\n",
       "      <th>3</th>\n",
       "      <td>13.5026</td>\n",
       "      <td>0.935056</td>\n",
       "      <td>6</td>\n",
       "      <td>5314536</td>\n",
       "      <td>0.077902</td>\n",
       "    </tr>\n",
       "    <tr>\n",
       "      <th>4</th>\n",
       "      <td>13.4928</td>\n",
       "      <td>0.787580</td>\n",
       "      <td>8</td>\n",
       "      <td>5314536</td>\n",
       "      <td>0.056750</td>\n",
       "    </tr>\n",
       "    <tr>\n",
       "      <th>5</th>\n",
       "      <td>13.5371</td>\n",
       "      <td>0.638159</td>\n",
       "      <td>16</td>\n",
       "      <td>5314536</td>\n",
       "      <td>0.029518</td>\n",
       "    </tr>\n",
       "    <tr>\n",
       "      <th>6</th>\n",
       "      <td>13.5384</td>\n",
       "      <td>0.686037</td>\n",
       "      <td>32</td>\n",
       "      <td>5314536</td>\n",
       "      <td>0.015489</td>\n",
       "    </tr>\n",
       "    <tr>\n",
       "      <th>7</th>\n",
       "      <td>13.5481</td>\n",
       "      <td>0.721308</td>\n",
       "      <td>64</td>\n",
       "      <td>5314536</td>\n",
       "      <td>0.007733</td>\n",
       "    </tr>\n",
       "  </tbody>\n",
       "</table>\n",
       "</div>"
      ],
      "text/plain": [
       "   read_time  search_time  threads  total_msgs  volume_time\n",
       "0    21.2661     2.999390        1     5314536     0.508576\n",
       "1    13.9258     1.731480        2     5314536     0.241197\n",
       "2    13.9777     1.116890        4     5314536     0.123258\n",
       "3    13.5026     0.935056        6     5314536     0.077902\n",
       "4    13.4928     0.787580        8     5314536     0.056750\n",
       "5    13.5371     0.638159       16     5314536     0.029518\n",
       "6    13.5384     0.686037       32     5314536     0.015489\n",
       "7    13.5481     0.721308       64     5314536     0.007733"
      ]
     },
     "execution_count": 148,
     "metadata": {},
     "output_type": "execute_result"
    }
   ],
   "source": [
    "data"
   ]
  },
  {
   "cell_type": "code",
   "execution_count": 149,
   "metadata": {},
   "outputs": [
    {
     "data": {
      "image/png": "[encoded data removed]",
      "text/plain": [
       "<matplotlib.figure.Figure at 0x2b2223da0050>"
      ]
     },
     "metadata": {},
     "output_type": "display_data"
    }
   ],
   "source": [
    "X = data['threads']\n",
    "read_time = data['read_time']\n",
    "search_time = data['search_time']\n",
    "volume_time = data['volume_time']\n",
    "\n",
    "# plot with various axes scales\n",
    "plt.figure(figsize=(15,15))\n",
    "\n",
    "# linear\n",
    "plt.subplot(221)\n",
    "plt.plot(X, read_time)\n",
    "#plt.xscale('log')\n",
    "plt.title('linear')\n",
    "\n",
    "# linear\n",
    "plt.subplot(222)\n",
    "plt.plot(X, search_time)\n",
    "#plt.xscale('log')\n",
    "plt.title('linear')\n",
    "\n",
    "# linear\n",
    "plt.subplot(223)\n",
    "plt.plot(X, volume_time)\n",
    "#plt.xscale('log')\n",
    "plt.title('linear')\n",
    "\n",
    "# linear\n",
    "plt.subplot(224)\n",
    "plt.plot(read_time)\n",
    "plt.plot(search_time)\n",
    "plt.plot(volume_time)\n",
    "#plt.yscale('log')\n",
    "plt.title('Algorithms Performance')\n",
    "\n",
    "plt.subplots_adjust(top=0.95, bottom=0.10, left=0.10, right=0.95, hspace=0.25, wspace=0.35)\n",
    "\n",
    "plt.show()"
   ]
  },
  {
   "cell_type": "markdown",
   "metadata": {},
   "source": [
    "## Daily Messages Volume"
   ]
  },
  {
   "cell_type": "code",
   "execution_count": 150,
   "metadata": {},
   "outputs": [
    {
     "data": {
      "image/png": "[encoded data removed]",
      "text/plain": [
       "<matplotlib.figure.Figure at 0x2b2223dc5fd0>"
      ]
     },
     "metadata": {},
     "output_type": "display_data"
    }
   ],
   "source": [
    "plt.figure(figsize=(12,12))\n",
    "fig = plt.subplot()\n",
    "fig.plot(dates, date_volume)\n",
    "fig.figure.autofmt_xdate()\n",
    "myFmt = DateFormatter(\"%Y-%m-%d\")\n",
    "fig.xaxis.set_major_formatter(myFmt)\n",
    "plt.show()"
   ]
  },
  {
   "cell_type": "markdown",
   "metadata": {},
   "source": [
    "# Spark/Hadoop Approach on Wrangler"
   ]
  },
  {
   "cell_type": "markdown",
   "metadata": {},
   "source": [
    "### Notebook Spark Setup \n",
    "\n",
    "The package findspark is very important as it will help to find Spark in the system. If the enviroment variable SPARK_HOME is setup then just need to run `findspark.find()`. It is also possible to give the direct path to the find Spark using the `findspark.init(/path/to/spark/)`"
   ]
  },
  {
   "cell_type": "code",
   "execution_count": null,
   "metadata": {
    "collapsed": true
   },
   "outputs": [],
   "source": [
    "import findspark \n",
    "findspark.init('/usr/lib/spark', edit_profile=True)\n",
    "findspark.find()"
   ]
  },
  {
   "cell_type": "markdown",
   "metadata": {},
   "source": [
    "After finding spark then it is possible to `import pyspark` and start the `SparkContext`"
   ]
  },
  {
   "cell_type": "code",
   "execution_count": null,
   "metadata": {
    "collapsed": true
   },
   "outputs": [],
   "source": [
    "import pyspark\n",
    "sc = pyspark.SparkContext(appName=\"fixAnalyzer\")"
   ]
  },
  {
   "cell_type": "code",
   "execution_count": 17,
   "metadata": {
    "collapsed": true
   },
   "outputs": [],
   "source": [
    "path = \"/data/05191/jlroo/raw\"\n",
    "files = list(os.walk(path))[0][2]\n",
    "hdfs = \"hdfs://\" + \"/user/jlroo/cme/\""
   ]
  },
  {
   "cell_type": "code",
   "execution_count": null,
   "metadata": {
    "collapsed": true
   },
   "outputs": [],
   "source": [
    "wkfiles = {int(i.split(\"_\")[-2]):sc.textFile(hdfs + i) for i in files}\n",
    "data = OrderedDict(sorted(wkfiles.items(), key=lambda t: t[0]))"
   ]
  },
  {
   "cell_type": "code",
   "execution_count": null,
   "metadata": {
    "collapsed": true
   },
   "outputs": [],
   "source": [
    "count = {key:data[key].count() for key in data}"
   ]
  },
  {
   "cell_type": "code",
   "execution_count": null,
   "metadata": {
    "collapsed": true
   },
   "outputs": [],
   "source": [
    "df = data['20100409'].map(lambda r: Row(r)).toDF([\"line\"])"
   ]
  }
 ],
 "metadata": {
  "hide_input": false,
  "kernelspec": {
   "display_name": "Python 2",
   "language": "python",
   "name": "python2"
  },
  "language_info": {
   "codemirror_mode": {
    "name": "ipython",
    "version": 2
   },
   "file_extension": ".py",
   "mimetype": "text/x-python",
   "name": "python",
   "nbconvert_exporter": "python",
   "pygments_lexer": "ipython2",
   "version": "2.7.13"
  },
  "toc": {
   "nav_menu": {},
   "number_sections": false,
   "sideBar": true,
   "skip_h1_title": false,
   "toc_cell": true,
   "toc_position": {
    "height": "530px",
    "left": "0px",
    "right": "940px",
    "top": "112px",
    "width": "212px"
   },
   "toc_section_display": "none",
   "toc_window_display": false
  }
 },
 "nbformat": 4,
 "nbformat_minor": 2
}
